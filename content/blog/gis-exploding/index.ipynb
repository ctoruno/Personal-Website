{
 "cells": [
  {
   "cell_type": "markdown",
   "id": "f9e0f742-c2a0-4e73-8858-76f44ea0d09e",
   "metadata": {},
   "source": [
    "In my [previous blog post](https://www.carlos-toruno.com/blog/streamlit/01-intro/), I showed how to program a choropleth map generator using Streamlit. While doing this, I encountered an issue I had never experienced before. More specifically, how to explode geometries. As you might know, there is a huge international debate about Taiwan being a sovereign country. As a result, many \"*official*\" datasets containing world boundaries would usually include the island of Taiwan as part of China. The big question that relates to this blog post is, how can we split the boundaries between these two territories? Therefore, in this blog post, I will be explaining to you how I solved this issue using the [GeoPandas library](https://geopandas.org/en/stable/) in Python.\n",
    "\n",
    "<img src=\"featured.png\" width=\"100%\"/>\n",
    "\n",
    "## A little bit of context\n",
    "Since the approval of the [resolution 2758(XXVI)](https://undocs.org/en/A/RES/2758(XXVI)) by the United Nations back in 1971, Taiwan has been excluded from many international circles. Taiwan does not have a seat in the United Nations since their representatives were expelled after the approval of this resolution. At the same time, if you search for Taiwan in the [list of countries and economies](https://data.worldbank.org/country) in the World Bank Data portal, you won't find it.\n",
    "\n",
    "To be honest, I have been reading a lot about this issue and I have found it to be very interesting. For example, the UN resolution states that \"(...) the representatives of the Government of the People's Republic of China are the only lawful representatives of China\", not that Taiwan is not a country. Which is a very important highlight if you want to use this resolution in favor of the \"One-China policy\". This has opened a very interesting diplomatic strategy for the Government of Taipei in trying to highlight the difference between China and Taiwan. If you would like to read about this in more depth, I would suggest you to read [this article](https://verfassungsblog.de/taiwan-and-the-myth-of-un-general-assembly-resolution-2758/) by prof. Chien-Huei Wu. This approach is even mmore interesting when you take a look at the data from public opinion polls. According to the National Chengchi University, less than 20% of the population living in the island considered themselves Taiwanese, while more than 70% considered themselves chinese or both. Thirty years later, almost 65% of the population considered themselves taiwanese and not chinese (check [this article](https://www.bbc.com/news/world-asia-china-59900139) by the BBC for more interesting data).\n",
    "\n",
    "Now, as I stated in my previous [previous blog post](https://www.carlos-toruno.com/blog/streamlit/01-intro/), I intended to use the [World Bank Official Boundaries Data](https://datacatalog.worldbank.org/search/dataset/0038272/World-Bank-Official-Boundaries). Let's load the data, subset China and see how it looks in a map."
   ]
  },
  {
   "cell_type": "code",
   "execution_count": 8,
   "id": "ce8f86b6-6153-4537-a3cf-fd6b92324959",
   "metadata": {},
   "outputs": [
    {
     "data": {
      "image/png": "[encoded data removed]",
      "text/plain": [
       "<Figure size 432x288 with 1 Axes>"
      ]
     },
     "metadata": {
      "needs_background": "light"
     },
     "output_type": "display_data"
    }
   ],
   "source": [
    "import geopandas as gpd\n",
    "\n",
    "# Loading World Bank Official Boundaries\n",
    "raw_boundaries  = (gpd.read_file(\"WB_countries_Admin0.geojson\"))\n",
    "\n",
    "# Subsetting China -> Code \"CHN\"\n",
    "china    = raw_boundaries.loc[raw_boundaries[\"WB_A3\"] == \"CHN\"]\n",
    "\n",
    "# Plotting the geometries\n",
    "china.plot().set_axis_off()"
   ]
  },
  {
   "cell_type": "markdown",
   "id": "e0f32d6b-8316-46e8-af50-d3440d46614c",
   "metadata": {},
   "source": [
    "I hope your geography knowledge is outstanding, but in case you are a little bit lost...\n",
    "\n",
    "Do you see that small island in the southeast, that's Taiwan! And it should not be displayed in this map because we were ONLY subsetting the geometries that belong to country code CHN, in other words, the People's Republic of China. Now, how do we solve this?\n",
    "\n",
    "## Possible solutions\n",
    "\n",
    "The most logical solution that many of you would propose is to use a subnational boundaries or a ADM-1 level data. Saadly, the World Bank does not supply an official licensed ADM-1 data for subnational boundaries. Then, why not use any other source like our beloved [geoBoundaries](https://www.geoboundaries.org/)? As it happens, I need an official source for the map generator app, preferrably from the United Nations or the World Bank.\n",
    "\n",
    "Many of you would say, well, this issue can be quickly solved using a some clicks aand options in ArcGIS or QGIS. However, I refuse to do this outside Python. So, I just asked Google about how could I split a geometry and I quickly found something called \"*exploding*\".  \n",
    "\n",
    "In GIS, exploding a geometry means to break a feature into its individual parts. This means that, if you have a multipolygon, you would end up with multiple individual and differentiable polygons. But if you have a polygon, you would end up  with multiple individual and differentiable lines, and so on. The most important part, is that each of these splitted parts would be a different feature by itself. The Geopandas library comes with aa native API function that allows us to do this.\n",
    "\n",
    "## Using GeoPandas to explode geometries\n",
    "\n",
    "Given that country boundaries are multipolygon features, if we were to explode China, we should end up with a geopandas data frame containing the continental part of China and all its islands, which are indeed a lot. Let's see what happens.\n",
    "\n",
    "First, let's take a look at our current subset for China:"
   ]
  },
  {
   "cell_type": "code",
   "execution_count": 29,
   "id": "7e0ef841-aedc-4022-808d-e7674216d411",
   "metadata": {},
   "outputs": [
    {
     "data": {
      "text/html": [
       "<div>\n",
       "<style scoped>\n",
       "    .dataframe tbody tr th:only-of-type {\n",
       "        vertical-align: middle;\n",
       "    }\n",
       "\n",
       "    .dataframe tbody tr th {\n",
       "        vertical-align: top;\n",
       "    }\n",
       "\n",
       "    .dataframe thead th {\n",
       "        text-align: right;\n",
       "    }\n",
       "</style>\n",
       "<table border=\"1\" class=\"dataframe\">\n",
       "  <thead>\n",
       "    <tr style=\"text-align: right;\">\n",
       "      <th></th>\n",
       "      <th>TYPE</th>\n",
       "      <th>WB_A3</th>\n",
       "      <th>NAME_EN</th>\n",
       "      <th>geometry</th>\n",
       "    </tr>\n",
       "  </thead>\n",
       "  <tbody>\n",
       "    <tr>\n",
       "      <th>8</th>\n",
       "      <td>Country</td>\n",
       "      <td>CHN</td>\n",
       "      <td>People's Republic of China</td>\n",
       "      <td>MULTIPOLYGON (((110.68507 20.15331, 110.67791 ...</td>\n",
       "    </tr>\n",
       "  </tbody>\n",
       "</table>\n",
       "</div>"
      ],
      "text/plain": [
       "      TYPE WB_A3                     NAME_EN  \\\n",
       "8  Country   CHN  People's Republic of China   \n",
       "\n",
       "                                            geometry  \n",
       "8  MULTIPOLYGON (((110.68507 20.15331, 110.67791 ...  "
      ]
     },
     "execution_count": 29,
     "metadata": {},
     "output_type": "execute_result"
    }
   ],
   "source": [
    "china[[\"TYPE\", \"WB_A3\", \"NAME_EN\", \"geometry\"]]"
   ]
  },
  {
   "cell_type": "markdown",
   "id": "b3134282-a4a7-40ca-a6e2-ca9c1dfd9452",
   "metadata": {},
   "source": [
    "As we can observe, we currently have a single row geo dataframe and its geometry states that it is a multipolygon. That means that if we explode this subset, we should en up with a geo data frame listing all of its polygons. Let's see if that's the case:"
   ]
  },
  {
   "cell_type": "code",
   "execution_count": 28,
   "id": "3d7cc14e-832b-4959-8bb7-40cbab1e500f",
   "metadata": {},
   "outputs": [
    {
     "data": {
      "text/html": [
       "<div>\n",
       "<style scoped>\n",
       "    .dataframe tbody tr th:only-of-type {\n",
       "        vertical-align: middle;\n",
       "    }\n",
       "\n",
       "    .dataframe tbody tr th {\n",
       "        vertical-align: top;\n",
       "    }\n",
       "\n",
       "    .dataframe thead th {\n",
       "        text-align: right;\n",
       "    }\n",
       "</style>\n",
       "<table border=\"1\" class=\"dataframe\">\n",
       "  <thead>\n",
       "    <tr style=\"text-align: right;\">\n",
       "      <th></th>\n",
       "      <th>TYPE</th>\n",
       "      <th>WB_A3</th>\n",
       "      <th>CONTINENT</th>\n",
       "      <th>REGION_UN</th>\n",
       "      <th>SUBREGION</th>\n",
       "      <th>REGION_WB</th>\n",
       "      <th>NAME_EN</th>\n",
       "      <th>WB_NAME</th>\n",
       "      <th>WB_REGION</th>\n",
       "      <th>geometry</th>\n",
       "    </tr>\n",
       "  </thead>\n",
       "  <tbody>\n",
       "    <tr>\n",
       "      <th>0</th>\n",
       "      <td>Country</td>\n",
       "      <td>CHN</td>\n",
       "      <td>Asia</td>\n",
       "      <td>Asia</td>\n",
       "      <td>Eastern Asia</td>\n",
       "      <td>East Asia &amp; Pacific</td>\n",
       "      <td>People's Republic of China</td>\n",
       "      <td>China</td>\n",
       "      <td>EAP</td>\n",
       "      <td>POLYGON ((110.68507 20.15331, 110.67791 20.163...</td>\n",
       "    </tr>\n",
       "    <tr>\n",
       "      <th>1</th>\n",
       "      <td>Country</td>\n",
       "      <td>CHN</td>\n",
       "      <td>Asia</td>\n",
       "      <td>Asia</td>\n",
       "      <td>Eastern Asia</td>\n",
       "      <td>East Asia &amp; Pacific</td>\n",
       "      <td>People's Republic of China</td>\n",
       "      <td>China</td>\n",
       "      <td>EAP</td>\n",
       "      <td>POLYGON ((110.44264 20.66352, 110.43702 20.667...</td>\n",
       "    </tr>\n",
       "    <tr>\n",
       "      <th>2</th>\n",
       "      <td>Country</td>\n",
       "      <td>CHN</td>\n",
       "      <td>Asia</td>\n",
       "      <td>Asia</td>\n",
       "      <td>Eastern Asia</td>\n",
       "      <td>East Asia &amp; Pacific</td>\n",
       "      <td>People's Republic of China</td>\n",
       "      <td>China</td>\n",
       "      <td>EAP</td>\n",
       "      <td>POLYGON ((110.60955 20.89728, 110.62452 20.915...</td>\n",
       "    </tr>\n",
       "    <tr>\n",
       "      <th>3</th>\n",
       "      <td>Country</td>\n",
       "      <td>CHN</td>\n",
       "      <td>Asia</td>\n",
       "      <td>Asia</td>\n",
       "      <td>Eastern Asia</td>\n",
       "      <td>East Asia &amp; Pacific</td>\n",
       "      <td>People's Republic of China</td>\n",
       "      <td>China</td>\n",
       "      <td>EAP</td>\n",
       "      <td>POLYGON ((109.10524 21.02448, 109.11256 21.027...</td>\n",
       "    </tr>\n",
       "    <tr>\n",
       "      <th>4</th>\n",
       "      <td>Country</td>\n",
       "      <td>CHN</td>\n",
       "      <td>Asia</td>\n",
       "      <td>Asia</td>\n",
       "      <td>Eastern Asia</td>\n",
       "      <td>East Asia &amp; Pacific</td>\n",
       "      <td>People's Republic of China</td>\n",
       "      <td>China</td>\n",
       "      <td>EAP</td>\n",
       "      <td>POLYGON ((110.38982 21.09589, 110.37135 21.080...</td>\n",
       "    </tr>\n",
       "    <tr>\n",
       "      <th>...</th>\n",
       "      <td>...</td>\n",
       "      <td>...</td>\n",
       "      <td>...</td>\n",
       "      <td>...</td>\n",
       "      <td>...</td>\n",
       "      <td>...</td>\n",
       "      <td>...</td>\n",
       "      <td>...</td>\n",
       "      <td>...</td>\n",
       "      <td>...</td>\n",
       "    </tr>\n",
       "    <tr>\n",
       "      <th>66</th>\n",
       "      <td>Country</td>\n",
       "      <td>CHN</td>\n",
       "      <td>Asia</td>\n",
       "      <td>Asia</td>\n",
       "      <td>Eastern Asia</td>\n",
       "      <td>East Asia &amp; Pacific</td>\n",
       "      <td>People's Republic of China</td>\n",
       "      <td>China</td>\n",
       "      <td>EAP</td>\n",
       "      <td>POLYGON ((122.74195 39.23607, 122.71860 39.241...</td>\n",
       "    </tr>\n",
       "    <tr>\n",
       "      <th>67</th>\n",
       "      <td>Country</td>\n",
       "      <td>CHN</td>\n",
       "      <td>Asia</td>\n",
       "      <td>Asia</td>\n",
       "      <td>Eastern Asia</td>\n",
       "      <td>East Asia &amp; Pacific</td>\n",
       "      <td>People's Republic of China</td>\n",
       "      <td>China</td>\n",
       "      <td>EAP</td>\n",
       "      <td>POLYGON ((122.68442 39.26219, 122.66326 39.272...</td>\n",
       "    </tr>\n",
       "    <tr>\n",
       "      <th>68</th>\n",
       "      <td>Country</td>\n",
       "      <td>CHN</td>\n",
       "      <td>Asia</td>\n",
       "      <td>Asia</td>\n",
       "      <td>Eastern Asia</td>\n",
       "      <td>East Asia &amp; Pacific</td>\n",
       "      <td>People's Republic of China</td>\n",
       "      <td>China</td>\n",
       "      <td>EAP</td>\n",
       "      <td>POLYGON ((121.35255 39.48241, 121.34059 39.481...</td>\n",
       "    </tr>\n",
       "    <tr>\n",
       "      <th>69</th>\n",
       "      <td>Country</td>\n",
       "      <td>CHN</td>\n",
       "      <td>Asia</td>\n",
       "      <td>Asia</td>\n",
       "      <td>Eastern Asia</td>\n",
       "      <td>East Asia &amp; Pacific</td>\n",
       "      <td>People's Republic of China</td>\n",
       "      <td>China</td>\n",
       "      <td>EAP</td>\n",
       "      <td>POLYGON ((123.02996 39.50788, 123.04005 39.529...</td>\n",
       "    </tr>\n",
       "    <tr>\n",
       "      <th>70</th>\n",
       "      <td>Country</td>\n",
       "      <td>CHN</td>\n",
       "      <td>Asia</td>\n",
       "      <td>Asia</td>\n",
       "      <td>Eastern Asia</td>\n",
       "      <td>East Asia &amp; Pacific</td>\n",
       "      <td>People's Republic of China</td>\n",
       "      <td>China</td>\n",
       "      <td>EAP</td>\n",
       "      <td>POLYGON ((123.47141 53.51901, 123.43167 53.535...</td>\n",
       "    </tr>\n",
       "  </tbody>\n",
       "</table>\n",
       "<p>71 rows × 10 columns</p>\n",
       "</div>"
      ],
      "text/plain": [
       "       TYPE WB_A3 CONTINENT REGION_UN     SUBREGION            REGION_WB  \\\n",
       "0   Country   CHN      Asia      Asia  Eastern Asia  East Asia & Pacific   \n",
       "1   Country   CHN      Asia      Asia  Eastern Asia  East Asia & Pacific   \n",
       "2   Country   CHN      Asia      Asia  Eastern Asia  East Asia & Pacific   \n",
       "3   Country   CHN      Asia      Asia  Eastern Asia  East Asia & Pacific   \n",
       "4   Country   CHN      Asia      Asia  Eastern Asia  East Asia & Pacific   \n",
       "..      ...   ...       ...       ...           ...                  ...   \n",
       "66  Country   CHN      Asia      Asia  Eastern Asia  East Asia & Pacific   \n",
       "67  Country   CHN      Asia      Asia  Eastern Asia  East Asia & Pacific   \n",
       "68  Country   CHN      Asia      Asia  Eastern Asia  East Asia & Pacific   \n",
       "69  Country   CHN      Asia      Asia  Eastern Asia  East Asia & Pacific   \n",
       "70  Country   CHN      Asia      Asia  Eastern Asia  East Asia & Pacific   \n",
       "\n",
       "                       NAME_EN WB_NAME WB_REGION  \\\n",
       "0   People's Republic of China   China       EAP   \n",
       "1   People's Republic of China   China       EAP   \n",
       "2   People's Republic of China   China       EAP   \n",
       "3   People's Republic of China   China       EAP   \n",
       "4   People's Republic of China   China       EAP   \n",
       "..                         ...     ...       ...   \n",
       "66  People's Republic of China   China       EAP   \n",
       "67  People's Republic of China   China       EAP   \n",
       "68  People's Republic of China   China       EAP   \n",
       "69  People's Republic of China   China       EAP   \n",
       "70  People's Republic of China   China       EAP   \n",
       "\n",
       "                                             geometry  \n",
       "0   POLYGON ((110.68507 20.15331, 110.67791 20.163...  \n",
       "1   POLYGON ((110.44264 20.66352, 110.43702 20.667...  \n",
       "2   POLYGON ((110.60955 20.89728, 110.62452 20.915...  \n",
       "3   POLYGON ((109.10524 21.02448, 109.11256 21.027...  \n",
       "4   POLYGON ((110.38982 21.09589, 110.37135 21.080...  \n",
       "..                                                ...  \n",
       "66  POLYGON ((122.74195 39.23607, 122.71860 39.241...  \n",
       "67  POLYGON ((122.68442 39.26219, 122.66326 39.272...  \n",
       "68  POLYGON ((121.35255 39.48241, 121.34059 39.481...  \n",
       "69  POLYGON ((123.02996 39.50788, 123.04005 39.529...  \n",
       "70  POLYGON ((123.47141 53.51901, 123.43167 53.535...  \n",
       "\n",
       "[71 rows x 10 columns]"
      ]
     },
     "execution_count": 28,
     "metadata": {},
     "output_type": "execute_result"
    }
   ],
   "source": [
    "## Exploding China's geometry\n",
    "china_ex = (china[[\"TYPE\", \"WB_A3\", \"CONTINENT\", \n",
    "                   \"REGION_UN\", \"SUBREGION\", \"REGION_WB\", \n",
    "                   \"NAME_EN\", \"WB_NAME\", \"WB_REGION\", \n",
    "                   \"geometry\"]]\n",
    "            .explode(index_parts = True)\n",
    "            .reset_index(drop = True))\n",
    "\n",
    "## How does the new geo-data-frame look like?\n",
    "china_ex"
   ]
  },
  {
   "cell_type": "code",
   "execution_count": 33,
   "id": "9fa010fb-bc9f-4c12-87c2-710197294076",
   "metadata": {},
   "outputs": [
    {
     "data": {
      "image/png": "[encoded data removed]",
      "text/plain": [
       "<Figure size 432x288 with 1 Axes>"
      ]
     },
     "metadata": {
      "needs_background": "light"
     },
     "output_type": "display_data"
    }
   ],
   "source": [
    "china_ex.plot(column=\"geometry\").set_axis_off()"
   ]
  },
  {
   "cell_type": "markdown",
   "id": "d1fd6e86-e6b5-4946-a847-455f142b195e",
   "metadata": {},
   "source": [
    "As we can see, we now have a geo data frame with 71 rows. However, there is no way for us to know which feature is what. If we plot the data and differentiate by different features, we are only able to distinguish the three larger ones: continental China, the island of Taiwan, and the island of Hainan, respectively. Therefore, we need to highlight the second larger polygon. We can do this by estimating the area and subsetting"
   ]
  },
  {
   "cell_type": "code",
   "execution_count": 52,
   "id": "e89dca4b-bbaa-44e8-af2d-1629521fc80e",
   "metadata": {},
   "outputs": [
    {
     "data": {
      "text/html": [
       "<div>\n",
       "<style scoped>\n",
       "    .dataframe tbody tr th:only-of-type {\n",
       "        vertical-align: middle;\n",
       "    }\n",
       "\n",
       "    .dataframe tbody tr th {\n",
       "        vertical-align: top;\n",
       "    }\n",
       "\n",
       "    .dataframe thead th {\n",
       "        text-align: right;\n",
       "    }\n",
       "</style>\n",
       "<table border=\"1\" class=\"dataframe\">\n",
       "  <thead>\n",
       "    <tr style=\"text-align: right;\">\n",
       "      <th></th>\n",
       "      <th>TYPE</th>\n",
       "      <th>WB_A3</th>\n",
       "      <th>CONTINENT</th>\n",
       "      <th>REGION_UN</th>\n",
       "      <th>SUBREGION</th>\n",
       "      <th>REGION_WB</th>\n",
       "      <th>NAME_EN</th>\n",
       "      <th>WB_NAME</th>\n",
       "      <th>WB_REGION</th>\n",
       "      <th>geometry</th>\n",
       "      <th>area_m2</th>\n",
       "    </tr>\n",
       "  </thead>\n",
       "  <tbody>\n",
       "    <tr>\n",
       "      <th>31</th>\n",
       "      <td>Country</td>\n",
       "      <td>CHN</td>\n",
       "      <td>Asia</td>\n",
       "      <td>Asia</td>\n",
       "      <td>Eastern Asia</td>\n",
       "      <td>East Asia &amp; Pacific</td>\n",
       "      <td>People's Republic of China</td>\n",
       "      <td>China</td>\n",
       "      <td>EAP</td>\n",
       "      <td>POLYGON ((121.63600 25.22281, 121.59791 25.271...</td>\n",
       "      <td>4.153658e+10</td>\n",
       "    </tr>\n",
       "  </tbody>\n",
       "</table>\n",
       "</div>"
      ],
      "text/plain": [
       "       TYPE WB_A3 CONTINENT REGION_UN     SUBREGION            REGION_WB  \\\n",
       "31  Country   CHN      Asia      Asia  Eastern Asia  East Asia & Pacific   \n",
       "\n",
       "                       NAME_EN WB_NAME WB_REGION  \\\n",
       "31  People's Republic of China   China       EAP   \n",
       "\n",
       "                                             geometry       area_m2  \n",
       "31  POLYGON ((121.63600 25.22281, 121.59791 25.271...  4.153658e+10  "
      ]
     },
     "execution_count": 52,
     "metadata": {},
     "output_type": "execute_result"
    }
   ],
   "source": [
    "# Create a new column to store the area values\n",
    "china_ex[\"area_m2\"] = (china_ex\n",
    "                       .to_crs(\"ESRI:54003\")\n",
    "                       .geometry\n",
    "                       .area)\n",
    "\n",
    "## Sorting values\n",
    "china_exsort = china_ex.sort_values(by = \"area_m2\", \n",
    "                                    ascending = False)\n",
    "\n",
    "## Which row index represents Taiwan?\n",
    "china_exsort.iloc[1:2]"
   ]
  },
  {
   "cell_type": "markdown",
   "id": "a57ff4fe-738a-4a7a-91df-381b182c2f1c",
   "metadata": {},
   "source": [
    "As we can observe, Taiwan is the feature with row index 31 in the data frame. We could confirm this visually by plotting this feature alone. Again, I'm assuming that you have outstanding geography notions. But if you don't, here you have the mapped feature that we got and a google maps image of Taiwan. If they look alike, probably we are doing things right."
   ]
  },
  {
   "cell_type": "code",
   "execution_count": 54,
   "id": "11ad0381-44d0-4180-ab0f-dd358cf90579",
   "metadata": {},
   "outputs": [
    {
     "data": {
      "image/png": "[encoded data removed]",
      "text/plain": [
       "<Figure size 432x288 with 1 Axes>"
      ]
     },
     "metadata": {
      "needs_background": "light"
     },
     "output_type": "display_data"
    }
   ],
   "source": [
    "china_exsort.iloc[1:2].plot().set_axis_off()"
   ]
  },
  {
   "cell_type": "markdown",
   "id": "52d5bad3-f901-4af0-9021-520ab83a5838",
   "metadata": {},
   "source": [
    "<img src=\"taiwan_google.png\" width=\"40%\"/>"
   ]
  },
  {
   "cell_type": "markdown",
   "id": "43bb6710-5685-4821-b401-6128da85911d",
   "metadata": {},
   "source": [
    "We have been succesfully been able to identify Taiwan, what do we do now? Well, we basically need to rejoin all the other islands back to China, remove the China/Taiwan feature from our boundaries data and add the exploded data with China and Taiwan as sepaarate features. Sounds comple, right? Well, it's actually quite straightforward. Let's go step by step.\n",
    "\n",
    "First, we first need to manually input Taiwan's counntry data as follows:"
   ]
  },
  {
   "cell_type": "code",
   "execution_count": 56,
   "id": "c1678253-6be1-449d-b700-5640eb2d40fe",
   "metadata": {},
   "outputs": [],
   "source": [
    "# Manually inputting Taiwan's info\n",
    "china_ex.at[31, 'WB_A3']   = \"TWN\"\n",
    "china_ex.at[31, 'NAME_EN'] = \"Taiwan\"\n",
    "china_ex.at[31, 'WB_NAME'] = \"Taiwan\""
   ]
  },
  {
   "cell_type": "markdown",
   "id": "c5ab0dfe-2d92-4589-9939-8492c6127e64",
   "metadata": {},
   "source": [
    "Once we have inputed that data, we can dissolve the geometries to form a simplified data frame. If you are wondering what is to dissolve a geometry, it's bassically the opposite of exploding. We want to aggregate all those islands to the same feature as continental China. Except Taiwan, of course."
   ]
  },
  {
   "cell_type": "code",
   "execution_count": 58,
   "id": "bc86d3aa-3bd9-4ac8-965a-175d87df1d0d",
   "metadata": {},
   "outputs": [
    {
     "data": {
      "text/html": [
       "<div>\n",
       "<style scoped>\n",
       "    .dataframe tbody tr th:only-of-type {\n",
       "        vertical-align: middle;\n",
       "    }\n",
       "\n",
       "    .dataframe tbody tr th {\n",
       "        vertical-align: top;\n",
       "    }\n",
       "\n",
       "    .dataframe thead th {\n",
       "        text-align: right;\n",
       "    }\n",
       "</style>\n",
       "<table border=\"1\" class=\"dataframe\">\n",
       "  <thead>\n",
       "    <tr style=\"text-align: right;\">\n",
       "      <th></th>\n",
       "      <th>WB_A3</th>\n",
       "      <th>geometry</th>\n",
       "      <th>TYPE</th>\n",
       "      <th>CONTINENT</th>\n",
       "      <th>REGION_UN</th>\n",
       "      <th>SUBREGION</th>\n",
       "      <th>REGION_WB</th>\n",
       "      <th>NAME_EN</th>\n",
       "      <th>WB_NAME</th>\n",
       "      <th>WB_REGION</th>\n",
       "      <th>area_m2</th>\n",
       "    </tr>\n",
       "  </thead>\n",
       "  <tbody>\n",
       "    <tr>\n",
       "      <th>0</th>\n",
       "      <td>CHN</td>\n",
       "      <td>MULTIPOLYGON (((110.86988 19.99702, 110.89015 ...</td>\n",
       "      <td>Country</td>\n",
       "      <td>Asia</td>\n",
       "      <td>Asia</td>\n",
       "      <td>Eastern Asia</td>\n",
       "      <td>East Asia &amp; Pacific</td>\n",
       "      <td>People's Republic of China</td>\n",
       "      <td>China</td>\n",
       "      <td>EAP</td>\n",
       "      <td>3.727520e+10</td>\n",
       "    </tr>\n",
       "    <tr>\n",
       "      <th>1</th>\n",
       "      <td>TWN</td>\n",
       "      <td>POLYGON ((121.63600 25.22281, 121.59791 25.271...</td>\n",
       "      <td>Country</td>\n",
       "      <td>Asia</td>\n",
       "      <td>Asia</td>\n",
       "      <td>Eastern Asia</td>\n",
       "      <td>East Asia &amp; Pacific</td>\n",
       "      <td>Taiwan</td>\n",
       "      <td>Taiwan</td>\n",
       "      <td>EAP</td>\n",
       "      <td>4.153658e+10</td>\n",
       "    </tr>\n",
       "  </tbody>\n",
       "</table>\n",
       "</div>"
      ],
      "text/plain": [
       "  WB_A3                                           geometry     TYPE CONTINENT  \\\n",
       "0   CHN  MULTIPOLYGON (((110.86988 19.99702, 110.89015 ...  Country      Asia   \n",
       "1   TWN  POLYGON ((121.63600 25.22281, 121.59791 25.271...  Country      Asia   \n",
       "\n",
       "  REGION_UN     SUBREGION            REGION_WB                     NAME_EN  \\\n",
       "0      Asia  Eastern Asia  East Asia & Pacific  People's Republic of China   \n",
       "1      Asia  Eastern Asia  East Asia & Pacific                      Taiwan   \n",
       "\n",
       "  WB_NAME WB_REGION       area_m2  \n",
       "0   China       EAP  3.727520e+10  \n",
       "1  Taiwan       EAP  4.153658e+10  "
      ]
     },
     "execution_count": 58,
     "metadata": {},
     "output_type": "execute_result"
    }
   ],
   "source": [
    "# Disolving exploded geopandas for China\n",
    "china_taiwan = (china_ex\n",
    "                .dissolve(by      = \"WB_A3\",\n",
    "                          aggfunc = \"first\")).reset_index()\n",
    "\n",
    "china_taiwan"
   ]
  },
  {
   "cell_type": "markdown",
   "id": "2c7fc412-f624-4aef-a506-8e7d0f07c491",
   "metadata": {},
   "source": [
    "Once that we have China and Taiwan as different features, we proceed to append this new data to our world boundaries. However, don't forget to drop the previous China feature!!!"
   ]
  },
  {
   "cell_type": "code",
   "execution_count": 77,
   "id": "a91f411b-d3a1-4d3c-871a-2a150a4628da",
   "metadata": {},
   "outputs": [
    {
     "data": {
      "image/png": "[encoded data removed]",
      "text/plain": [
       "<Figure size 432x288 with 1 Axes>"
      ]
     },
     "metadata": {
      "needs_background": "light"
     },
     "output_type": "display_data"
    }
   ],
   "source": [
    "import pandas as pd\n",
    "\n",
    "# Appending china+taiwan geopandas to raw_boundaries\n",
    "raw_boundaries = (pd.concat([raw_boundaries.loc[raw_boundaries[\"WB_A3\"] != \"CHN\"],\n",
    "                             china_taiwan],\n",
    "                             ignore_index = True))\n",
    "\n",
    "raw_boundaries[raw_boundaries[\"WB_REGION\"] == \"EAP\"].plot().set_axis_off()"
   ]
  },
  {
   "cell_type": "markdown",
   "id": "12298085-f895-494b-8d2e-e7fdef85881d",
   "metadata": {},
   "source": [
    "This way, we have been able to split China and Taiwan as separate features without having to change our source data and just with a few lines of code."
   ]
  }
 ],
 "metadata": {
  "kernelspec": {
   "display_name": "Python 3 (ipykernel)",
   "language": "python",
   "name": "python3"
  },
  "language_info": {
   "codemirror_mode": {
    "name": "ipython",
    "version": 3
   },
   "file_extension": ".py",
   "mimetype": "text/x-python",
   "name": "python",
   "nbconvert_exporter": "python",
   "pygments_lexer": "ipython3",
   "version": "3.9.7"
  }
 },
 "nbformat": 4,
 "nbformat_minor": 5
}
